{
  "nbformat": 4,
  "nbformat_minor": 0,
  "metadata": {
    "colab": {
      "name": "darkfamilygraph.ipynb",
      "provenance": []
    },
    "kernelspec": {
      "name": "python3",
      "display_name": "Python 3"
    },
    "language_info": {
      "name": "python"
    }
  },
  "cells": [
    {
      "cell_type": "code",
      "metadata": {
        "id": "9dvz9cZWxlr5"
      },
      "source": [
        "# Family Graph is made. Each charactor in the Dark Series is a node\n",
        "familygraph = {\n",
        "    'Hannah':['Jonas','Silja'],\n",
        "    'Silja':['Noah','Agnes'],\n",
        "    'Agnes':['Tronte'],\n",
        "    'Noah':['Charlotte'],\n",
        "    'Charlotte':['Elisabeth','Franziska'],\n",
        "    'Franziska':[],\n",
        "    'Elisabeth':['Charlotte'],\n",
        "    'Jonas':[],\n",
        "    'Martha':[],\n",
        "    'Ulrich':['Magnus','Martha','Mikkel'],\n",
        "    'Magnus':[],\n",
        "    'Mikkel':['Jonas'],\n",
        "    'Katharina':['Magnus','Martha','Mikkel'],\n",
        "    'Regina':['Bartosz'],\n",
        "    'Alexander':['Bartosz'],\n",
        "    'Bartosz':['Noah','Agnes'],\n",
        "    'Claudia':['Regina'],\n",
        "    'Egon':['Claudia'],\n",
        "    'Doris':['Claudia'],\n",
        "    'Peter':['Elisabeth','Franziska'],\n",
        "    'Bernd':['Helge'],\n",
        "    'Greta':['Helge'],\n",
        "    'Helge':['Peter'],\n",
        "    'Tronte':['Ulrich','Mads'],\n",
        "    'Mads':[],\n",
        "    'Jana':['Ulrich','Mads'],\n",
        "}"
      ],
      "execution_count": null,
      "outputs": []
    },
    {
      "cell_type": "code",
      "metadata": {
        "colab": {
          "base_uri": "https://localhost:8080/"
        },
        "id": "qoXNxnG8vzEA",
        "outputId": "39d3dfcd-4685-477e-f256-627b5dfbb4d7"
      },
      "source": [
        "# Installing Pyvis\n",
        "!pip install pyvis"
      ],
      "execution_count": null,
      "outputs": [
        {
          "output_type": "stream",
          "name": "stdout",
          "text": [
            "Collecting pyvis\n",
            "  Downloading pyvis-0.1.9-py3-none-any.whl (23 kB)\n",
            "Collecting jsonpickle>=1.4.1\n",
            "  Downloading jsonpickle-2.0.0-py2.py3-none-any.whl (37 kB)\n",
            "Requirement already satisfied: networkx>=1.11 in /usr/local/lib/python3.7/dist-packages (from pyvis) (2.6.3)\n",
            "Requirement already satisfied: jinja2>=2.9.6 in /usr/local/lib/python3.7/dist-packages (from pyvis) (2.11.3)\n",
            "Requirement already satisfied: ipython>=5.3.0 in /usr/local/lib/python3.7/dist-packages (from pyvis) (5.5.0)\n",
            "Requirement already satisfied: pygments in /usr/local/lib/python3.7/dist-packages (from ipython>=5.3.0->pyvis) (2.6.1)\n",
            "Requirement already satisfied: simplegeneric>0.8 in /usr/local/lib/python3.7/dist-packages (from ipython>=5.3.0->pyvis) (0.8.1)\n",
            "Requirement already satisfied: decorator in /usr/local/lib/python3.7/dist-packages (from ipython>=5.3.0->pyvis) (4.4.2)\n",
            "Requirement already satisfied: traitlets>=4.2 in /usr/local/lib/python3.7/dist-packages (from ipython>=5.3.0->pyvis) (5.1.0)\n",
            "Requirement already satisfied: pexpect in /usr/local/lib/python3.7/dist-packages (from ipython>=5.3.0->pyvis) (4.8.0)\n",
            "Requirement already satisfied: pickleshare in /usr/local/lib/python3.7/dist-packages (from ipython>=5.3.0->pyvis) (0.7.5)\n",
            "Requirement already satisfied: prompt-toolkit<2.0.0,>=1.0.4 in /usr/local/lib/python3.7/dist-packages (from ipython>=5.3.0->pyvis) (1.0.18)\n",
            "Requirement already satisfied: setuptools>=18.5 in /usr/local/lib/python3.7/dist-packages (from ipython>=5.3.0->pyvis) (57.4.0)\n",
            "Requirement already satisfied: MarkupSafe>=0.23 in /usr/local/lib/python3.7/dist-packages (from jinja2>=2.9.6->pyvis) (2.0.1)\n",
            "Requirement already satisfied: importlib-metadata in /usr/local/lib/python3.7/dist-packages (from jsonpickle>=1.4.1->pyvis) (4.8.1)\n",
            "Requirement already satisfied: wcwidth in /usr/local/lib/python3.7/dist-packages (from prompt-toolkit<2.0.0,>=1.0.4->ipython>=5.3.0->pyvis) (0.2.5)\n",
            "Requirement already satisfied: six>=1.9.0 in /usr/local/lib/python3.7/dist-packages (from prompt-toolkit<2.0.0,>=1.0.4->ipython>=5.3.0->pyvis) (1.15.0)\n",
            "Requirement already satisfied: zipp>=0.5 in /usr/local/lib/python3.7/dist-packages (from importlib-metadata->jsonpickle>=1.4.1->pyvis) (3.6.0)\n",
            "Requirement already satisfied: typing-extensions>=3.6.4 in /usr/local/lib/python3.7/dist-packages (from importlib-metadata->jsonpickle>=1.4.1->pyvis) (3.7.4.3)\n",
            "Requirement already satisfied: ptyprocess>=0.5 in /usr/local/lib/python3.7/dist-packages (from pexpect->ipython>=5.3.0->pyvis) (0.7.0)\n",
            "Installing collected packages: jsonpickle, pyvis\n",
            "Successfully installed jsonpickle-2.0.0 pyvis-0.1.9\n"
          ]
        }
      ]
    },
    {
      "cell_type": "code",
      "metadata": {
        "colab": {
          "base_uri": "https://localhost:8080/",
          "height": 438
        },
        "id": "0igxrhbvvQ_W",
        "outputId": "84a0342a-156f-4fdc-a48b-26a9d461b3cc"
      },
      "source": [
        "# Visualization is using Pyvis Network \n",
        "from pyvis import network as net\n",
        "from IPython.core.display import display, HTML\n",
        "g=net.Network(height='400px', width='50%',heading='',directed=True)\n",
        "# Adding Nodes and Edges\n",
        "for i in familygraph:\n",
        "  g.add_node(i)\n",
        "for i in familygraph:\n",
        "  for j in familygraph[i]:\n",
        "    g.add_edge(i,j,width=4,arrowStrikethrough=False)\n",
        "g.show('example.html')\n",
        "display(HTML('example.html'))\n",
        "# Save the file to LocalDrive\n",
        "# g.save_graph('example.html')\n",
        "# from google.colab import files\n",
        "# files.download('example.html') \n"
      ],
      "execution_count": 35,
      "outputs": [
        {
          "output_type": "display_data",
          "data": {
            "text/html": [
              "<html>\n",
              "<head>\n",
              "<link rel=\"stylesheet\" href=\"https://cdnjs.cloudflare.com/ajax/libs/vis/4.16.1/vis.css\" type=\"text/css\" />\n",
              "<script type=\"text/javascript\" src=\"https://cdnjs.cloudflare.com/ajax/libs/vis/4.16.1/vis-network.min.js\"> </script>\n",
              "<center>\n",
              "<h1></h1>\n",
              "</center>\n",
              "\n",
              "<!-- <link rel=\"stylesheet\" href=\"../node_modules/vis/dist/vis.min.css\" type=\"text/css\" />\n",
              "<script type=\"text/javascript\" src=\"../node_modules/vis/dist/vis.js\"> </script>-->\n",
              "\n",
              "<style type=\"text/css\">\n",
              "\n",
              "        #mynetwork {\n",
              "            width: 50%;\n",
              "            height: 400px;\n",
              "            background-color: #ffffff;\n",
              "            border: 1px solid lightgray;\n",
              "            position: relative;\n",
              "            float: left;\n",
              "        }\n",
              "\n",
              "        \n",
              "\n",
              "        \n",
              "\n",
              "        \n",
              "</style>\n",
              "\n",
              "</head>\n",
              "\n",
              "<body>\n",
              "<div id = \"mynetwork\"></div>\n",
              "\n",
              "\n",
              "<script type=\"text/javascript\">\n",
              "\n",
              "    // initialize global variables.\n",
              "    var edges;\n",
              "    var nodes;\n",
              "    var network; \n",
              "    var container;\n",
              "    var options, data;\n",
              "\n",
              "    \n",
              "    // This method is responsible for drawing the graph, returns the drawn network\n",
              "    function drawGraph() {\n",
              "        var container = document.getElementById('mynetwork');\n",
              "        \n",
              "        \n",
              "\n",
              "        // parsing and collecting nodes and edges from the python\n",
              "        nodes = new vis.DataSet([{\"id\": \"Hannah\", \"label\": \"Hannah\", \"shape\": \"dot\"}, {\"id\": \"Silja\", \"label\": \"Silja\", \"shape\": \"dot\"}, {\"id\": \"Agnes\", \"label\": \"Agnes\", \"shape\": \"dot\"}, {\"id\": \"Noah\", \"label\": \"Noah\", \"shape\": \"dot\"}, {\"id\": \"Charlotte\", \"label\": \"Charlotte\", \"shape\": \"dot\"}, {\"id\": \"Franziska\", \"label\": \"Franziska\", \"shape\": \"dot\"}, {\"id\": \"Elisabeth\", \"label\": \"Elisabeth\", \"shape\": \"dot\"}, {\"id\": \"Jonas\", \"label\": \"Jonas\", \"shape\": \"dot\"}, {\"id\": \"Martha\", \"label\": \"Martha\", \"shape\": \"dot\"}, {\"id\": \"Ulrich\", \"label\": \"Ulrich\", \"shape\": \"dot\"}, {\"id\": \"Magnus\", \"label\": \"Magnus\", \"shape\": \"dot\"}, {\"id\": \"Mikkel\", \"label\": \"Mikkel\", \"shape\": \"dot\"}, {\"id\": \"Katharina\", \"label\": \"Katharina\", \"shape\": \"dot\"}, {\"id\": \"Regina\", \"label\": \"Regina\", \"shape\": \"dot\"}, {\"id\": \"Alexander\", \"label\": \"Alexander\", \"shape\": \"dot\"}, {\"id\": \"Bartosz\", \"label\": \"Bartosz\", \"shape\": \"dot\"}, {\"id\": \"Claudia\", \"label\": \"Claudia\", \"shape\": \"dot\"}, {\"id\": \"Egon\", \"label\": \"Egon\", \"shape\": \"dot\"}, {\"id\": \"Doris\", \"label\": \"Doris\", \"shape\": \"dot\"}, {\"id\": \"Peter\", \"label\": \"Peter\", \"shape\": \"dot\"}, {\"id\": \"Bernd\", \"label\": \"Bernd\", \"shape\": \"dot\"}, {\"id\": \"Greta\", \"label\": \"Greta\", \"shape\": \"dot\"}, {\"id\": \"Helge\", \"label\": \"Helge\", \"shape\": \"dot\"}, {\"id\": \"Tronte\", \"label\": \"Tronte\", \"shape\": \"dot\"}, {\"id\": \"Mads\", \"label\": \"Mads\", \"shape\": \"dot\"}, {\"id\": \"Jana\", \"label\": \"Jana\", \"shape\": \"dot\"}]);\n",
              "        edges = new vis.DataSet([{\"arrowStrikethrough\": false, \"arrows\": \"to\", \"from\": \"Hannah\", \"to\": \"Jonas\", \"width\": 4}, {\"arrowStrikethrough\": false, \"arrows\": \"to\", \"from\": \"Hannah\", \"to\": \"Silja\", \"width\": 4}, {\"arrowStrikethrough\": false, \"arrows\": \"to\", \"from\": \"Silja\", \"to\": \"Noah\", \"width\": 4}, {\"arrowStrikethrough\": false, \"arrows\": \"to\", \"from\": \"Silja\", \"to\": \"Agnes\", \"width\": 4}, {\"arrowStrikethrough\": false, \"arrows\": \"to\", \"from\": \"Agnes\", \"to\": \"Tronte\", \"width\": 4}, {\"arrowStrikethrough\": false, \"arrows\": \"to\", \"from\": \"Noah\", \"to\": \"Charlotte\", \"width\": 4}, {\"arrowStrikethrough\": false, \"arrows\": \"to\", \"from\": \"Charlotte\", \"to\": \"Elisabeth\", \"width\": 4}, {\"arrowStrikethrough\": false, \"arrows\": \"to\", \"from\": \"Charlotte\", \"to\": \"Franziska\", \"width\": 4}, {\"arrowStrikethrough\": false, \"arrows\": \"to\", \"from\": \"Elisabeth\", \"to\": \"Charlotte\", \"width\": 4}, {\"arrowStrikethrough\": false, \"arrows\": \"to\", \"from\": \"Ulrich\", \"to\": \"Magnus\", \"width\": 4}, {\"arrowStrikethrough\": false, \"arrows\": \"to\", \"from\": \"Ulrich\", \"to\": \"Martha\", \"width\": 4}, {\"arrowStrikethrough\": false, \"arrows\": \"to\", \"from\": \"Ulrich\", \"to\": \"Mikkel\", \"width\": 4}, {\"arrowStrikethrough\": false, \"arrows\": \"to\", \"from\": \"Mikkel\", \"to\": \"Jonas\", \"width\": 4}, {\"arrowStrikethrough\": false, \"arrows\": \"to\", \"from\": \"Katharina\", \"to\": \"Magnus\", \"width\": 4}, {\"arrowStrikethrough\": false, \"arrows\": \"to\", \"from\": \"Katharina\", \"to\": \"Martha\", \"width\": 4}, {\"arrowStrikethrough\": false, \"arrows\": \"to\", \"from\": \"Katharina\", \"to\": \"Mikkel\", \"width\": 4}, {\"arrowStrikethrough\": false, \"arrows\": \"to\", \"from\": \"Regina\", \"to\": \"Bartosz\", \"width\": 4}, {\"arrowStrikethrough\": false, \"arrows\": \"to\", \"from\": \"Alexander\", \"to\": \"Bartosz\", \"width\": 4}, {\"arrowStrikethrough\": false, \"arrows\": \"to\", \"from\": \"Bartosz\", \"to\": \"Noah\", \"width\": 4}, {\"arrowStrikethrough\": false, \"arrows\": \"to\", \"from\": \"Bartosz\", \"to\": \"Agnes\", \"width\": 4}, {\"arrowStrikethrough\": false, \"arrows\": \"to\", \"from\": \"Claudia\", \"to\": \"Regina\", \"width\": 4}, {\"arrowStrikethrough\": false, \"arrows\": \"to\", \"from\": \"Egon\", \"to\": \"Claudia\", \"width\": 4}, {\"arrowStrikethrough\": false, \"arrows\": \"to\", \"from\": \"Doris\", \"to\": \"Claudia\", \"width\": 4}, {\"arrowStrikethrough\": false, \"arrows\": \"to\", \"from\": \"Peter\", \"to\": \"Elisabeth\", \"width\": 4}, {\"arrowStrikethrough\": false, \"arrows\": \"to\", \"from\": \"Peter\", \"to\": \"Franziska\", \"width\": 4}, {\"arrowStrikethrough\": false, \"arrows\": \"to\", \"from\": \"Bernd\", \"to\": \"Helge\", \"width\": 4}, {\"arrowStrikethrough\": false, \"arrows\": \"to\", \"from\": \"Greta\", \"to\": \"Helge\", \"width\": 4}, {\"arrowStrikethrough\": false, \"arrows\": \"to\", \"from\": \"Helge\", \"to\": \"Peter\", \"width\": 4}, {\"arrowStrikethrough\": false, \"arrows\": \"to\", \"from\": \"Tronte\", \"to\": \"Ulrich\", \"width\": 4}, {\"arrowStrikethrough\": false, \"arrows\": \"to\", \"from\": \"Tronte\", \"to\": \"Mads\", \"width\": 4}, {\"arrowStrikethrough\": false, \"arrows\": \"to\", \"from\": \"Jana\", \"to\": \"Ulrich\", \"width\": 4}, {\"arrowStrikethrough\": false, \"arrows\": \"to\", \"from\": \"Jana\", \"to\": \"Mads\", \"width\": 4}]);\n",
              "\n",
              "        // adding nodes and edges to the graph\n",
              "        data = {nodes: nodes, edges: edges};\n",
              "\n",
              "        var options = {\n",
              "    \"configure\": {\n",
              "        \"enabled\": false\n",
              "    },\n",
              "    \"edges\": {\n",
              "        \"color\": {\n",
              "            \"inherit\": true\n",
              "        },\n",
              "        \"smooth\": {\n",
              "            \"enabled\": false,\n",
              "            \"type\": \"continuous\"\n",
              "        }\n",
              "    },\n",
              "    \"interaction\": {\n",
              "        \"dragNodes\": true,\n",
              "        \"hideEdgesOnDrag\": false,\n",
              "        \"hideNodesOnDrag\": false\n",
              "    },\n",
              "    \"physics\": {\n",
              "        \"enabled\": true,\n",
              "        \"stabilization\": {\n",
              "            \"enabled\": true,\n",
              "            \"fit\": true,\n",
              "            \"iterations\": 1000,\n",
              "            \"onlyDynamicEdges\": false,\n",
              "            \"updateInterval\": 50\n",
              "        }\n",
              "    }\n",
              "};\n",
              "        \n",
              "        \n",
              "\n",
              "        \n",
              "\n",
              "        network = new vis.Network(container, data, options);\n",
              "\t \n",
              "        \n",
              "\n",
              "\n",
              "        \n",
              "\n",
              "        return network;\n",
              "\n",
              "    }\n",
              "\n",
              "    drawGraph();\n",
              "\n",
              "</script>\n",
              "</body>\n",
              "</html>"
            ],
            "text/plain": [
              "<IPython.core.display.HTML object>"
            ]
          },
          "metadata": {}
        }
      ]
    },
    {
      "cell_type": "code",
      "metadata": {
        "id": "vJrJif4IvkHb"
      },
      "source": [
        ""
      ],
      "execution_count": 30,
      "outputs": []
    },
    {
      "cell_type": "code",
      "metadata": {
        "id": "slX280Tcwhzx"
      },
      "source": [
        ""
      ],
      "execution_count": null,
      "outputs": []
    }
  ]
}